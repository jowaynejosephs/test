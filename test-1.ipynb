{
 "cells": [
  {
   "cell_type": "markdown",
   "id": "8d42f477",
   "metadata": {},
   "source": [
    "This is a test - Feb 3 - 9:42pm"
   ]
  },
  {
   "cell_type": "code",
   "execution_count": null,
   "id": "f4492012",
   "metadata": {},
   "outputs": [],
   "source": [
    "print(\"hello world\")"
   ]
  }
 ],
 "metadata": {
  "kernelspec": {
   "display_name": "Python 3 (ipykernel)",
   "language": "python",
   "name": "python3"
  },
  "language_info": {
   "codemirror_mode": {
    "name": "ipython",
    "version": 3
   },
   "file_extension": ".py",
   "mimetype": "text/x-python",
   "name": "python",
   "nbconvert_exporter": "python",
   "pygments_lexer": "ipython3",
   "version": "3.9.5"
  }
 },
 "nbformat": 4,
 "nbformat_minor": 5
}
